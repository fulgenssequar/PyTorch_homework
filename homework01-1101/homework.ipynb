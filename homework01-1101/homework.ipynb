{
 "cells": [
  {
   "cell_type": "markdown",
   "metadata": {},
   "source": [
    "# 基于词向量的英汉翻译——“火炬上的深度学习\"下第一次作业\n",
    "\n",
    "在这个作业中，你需要半独立地完成一个英文到中文的单词翻译器\n",
    "\n",
    "本文件是集智AI学园http://campus.swarma.org 出品的“火炬上的深度学习”第VI课的配套源代码"
   ]
  },
  {
   "cell_type": "code",
   "execution_count": 2,
   "metadata": {},
   "outputs": [
    {
     "name": "stdout",
     "output_type": "stream",
     "text": [
      "Good\n"
     ]
    }
   ],
   "source": [
    "# 加载必要的程序包\n",
    "# PyTorch的程序包\n",
    "import torch\n",
    "from torch.autograd import Variable\n",
    "import torch.nn as nn\n",
    "import torch.nn.functional as F\n",
    "import torch.optim as optim\n",
    "\n",
    "# 数值运算和绘图的程序包\n",
    "import numpy as np\n",
    "import matplotlib.pyplot as plt\n",
    "import matplotlib\n",
    "\n",
    "\n",
    "# 加载机器学习的软件包，主要为了词向量的二维可视化\n",
    "from sklearn.decomposition import PCA\n",
    "\n",
    "#加载Word2Vec的软件包\n",
    "import gensim as gensim\n",
    "from gensim.models import Word2Vec\n",
    "from gensim.models.keyedvectors import KeyedVectors\n",
    "from gensim.models.word2vec import LineSentence\n",
    "\n",
    "#加载正则表达式处理的包\n",
    "import re\n",
    "\n",
    "#在Notebook界面能够直接显示图形\n",
    "%matplotlib inline\n",
    "\n",
    "print(\"Good\")"
   ]
  },
  {
   "cell_type": "markdown",
   "metadata": {},
   "source": [
    "## 第一步：加载词向量\n",
    "\n",
    "首先，让我们加载别人已经在大型语料库上训练好的词向量"
   ]
  },
  {
   "cell_type": "code",
   "execution_count": 7,
   "metadata": {},
   "outputs": [
    {
     "data": {
      "text/plain": [
       "1366130"
      ]
     },
     "execution_count": 7,
     "metadata": {},
     "output_type": "execute_result"
    }
   ],
   "source": [
    "# 加载中文词向量，下载地址为：链接：http://pan.baidu.com/s/1gePQAun 密码：kvtg\n",
    "# 该中文词向量库是由尹相志提供，训练语料来源为：微博、人民日报、上海热线、汽车之家等，包含1366130个词向量\n",
    "word_vectors = KeyedVectors.load_word2vec_format('vectors.bin', binary=True, unicode_errors='ignore')\n",
    "len(word_vectors.vocab)"
   ]
  },
  {
   "cell_type": "code",
   "execution_count": 8,
   "metadata": {},
   "outputs": [
    {
     "name": "stdout",
     "output_type": "stream",
     "text": [
      "400000\n"
     ]
    }
   ],
   "source": [
    "# 加载中文的词向量，下载地址为：http://nlp.stanford.edu/data/glove.6B.zip，解压后将glove.6B.100d.txt文件拷贝到与本notebook\n",
    "# 文件一致的文件夹洗面。\n",
    "f = open('glove.6B.100d.txt', 'r')\n",
    "i = 1\n",
    "\n",
    "# 将英文的词向量都存入如下的字典中\n",
    "word_vectors_en = {}\n",
    "with open('glove.6B.100d.txt') as f:\n",
    "    for line in f:\n",
    "        numbers = line.split()\n",
    "        word = numbers[0]\n",
    "        vectors = np.array([float(i) for i in numbers[1 : ]])\n",
    "        word_vectors_en[word] = vectors\n",
    "        i += 1\n",
    "print(len(word_vectors_en))"
   ]
  },
  {
   "cell_type": "markdown",
   "metadata": {},
   "source": [
    "## 第二步：可视化同一组意思词在两种不同语言的词向量中的相互位置关系"
   ]
  },
  {
   "cell_type": "code",
   "execution_count": 9,
   "metadata": {
    "collapsed": true
   },
   "outputs": [],
   "source": [
    "# 中文的一二三四五列表\n",
    "cn_list = {'一', '二', '三', '四', '五', '六', '七', '八', '九', '零'}\n",
    "# 阿拉伯数字的12345列表\n",
    "en_list = {'1', '2', '3', '4', '5', '6', '7', '8', '9', '0'}\n",
    "# 英文数字的列表\n",
    "en_list = {'one', 'two', 'three', 'four', 'five', 'six', 'seven', 'eight', 'nine', 'zero'}\n",
    "\n",
    "# 对应词向量都存入到列表中\n",
    "cn_vectors = []  #中文的词向量列表\n",
    "en_vectors = []  #英文的词向量列表\n",
    "for w in cn_list:\n",
    "    cn_vectors.append(word_vectors[w])\n",
    "for w in en_list:\n",
    "    en_vectors.append(word_vectors_en[w])\n",
    "\n",
    "# 将这些词向量统一转化为矩阵\n",
    "cn_vectors = np.array(cn_vectors)\n",
    "en_vectors = np.array(en_vectors)"
   ]
  },
  {
   "cell_type": "code",
   "execution_count": 11,
   "metadata": {},
   "outputs": [
    {
     "data": {
      "image/png": "[encoded data removed]",
      "text/plain": [
       "<matplotlib.figure.Figure at 0x7f0d3eae5f98>"
      ]
     },
     "metadata": {},
     "output_type": "display_data"
    }
   ],
   "source": [
    "# 降维实现可视化\n",
    "X_reduced = PCA(n_components=2).fit_transform(cn_vectors)\n",
    "Y_reduced = PCA(n_components = 2).fit_transform(en_vectors)\n",
    "\n",
    "\n",
    "# 绘制所有单词向量的二维空间投影\n",
    "f, (ax1, ax2) = plt.subplots(1, 2, figsize = (10, 8))\n",
    "ax1.plot(X_reduced[:, 0], X_reduced[:, 1], 'o')\n",
    "ax2.plot(Y_reduced[:, 0], Y_reduced[:, 1], 'o')\n",
    "zhfont1 = matplotlib.font_manager.FontProperties(fname='./迷你简字典宋.ttf', size=16)\n",
    "for i, w in enumerate(cn_list):\n",
    "    ax1.text(X_reduced[i, 0], X_reduced[i, 1], w, fontproperties = zhfont1, alpha = 1)\n",
    "for i, w in enumerate(en_list):\n",
    "    ax2.text(Y_reduced[i, 0], Y_reduced[i, 1], w, alpha = 1)"
   ]
  },
  {
   "cell_type": "markdown",
   "metadata": {},
   "source": [
    "### 结论：可以看出，中文的一、二、等数字彼此之间的关系与英文的数字彼此之间的关系很类似"
   ]
  },
  {
   "cell_type": "markdown",
   "metadata": {},
   "source": [
    "## 第三步：训练一个神经网络，输入一个英文单词的词向量，输出一个中文的词向量，并翻译为中文"
   ]
  },
  {
   "cell_type": "markdown",
   "metadata": {},
   "source": [
    "首先，读入一个已经建立好的词典（dictionary.txt）。本词典是老师调用百度翻译的API，自动将一篇英文小说中的词汇逐个翻译为中文而得来的\n",
    "\n",
    "我们一个个地载入词典，并查找对应的中文词向量，如果找得到，则放入original_words中，做为正式的训练集"
   ]
  },
  {
   "cell_type": "code",
   "execution_count": 12,
   "metadata": {},
   "outputs": [
    {
     "name": "stdout",
     "output_type": "stream",
     "text": [
      "4962\n"
     ]
    }
   ],
   "source": [
    "original_words = []\n",
    "with open('dictionary.txt', 'r') as f:\n",
    "    dataset = []\n",
    "    for line in f:\n",
    "        itm = line.split('\\t')\n",
    "        eng = itm[0]\n",
    "        chn = itm[1].strip()\n",
    "        if eng in word_vectors_en and chn in word_vectors:\n",
    "            data = word_vectors_en[eng]\n",
    "            target = word_vectors[chn]\n",
    "            # 将中英文词对做成数据集\n",
    "            dataset.append([data, target])\n",
    "            original_words.append([eng, chn])\n",
    "print(len(dataset)) # 共有4962个单词做为总的数据集合"
   ]
  },
  {
   "cell_type": "code",
   "execution_count": 13,
   "metadata": {
    "collapsed": true
   },
   "outputs": [],
   "source": [
    "# 建立训练集、测试集和校验集\n",
    "# 训练集用来训练神经网络，更改网络的参数；校验集用来判断网络模型是否过拟合：当校验集的损失数值超过训练集的时候，即为过拟合\n",
    "# 测试集用来检验模型的好坏\n",
    "indx = np.random.permutation(range(len(dataset)))\n",
    "dataset = [dataset[i] for i in indx]\n",
    "original_words = [original_words[i] for i in indx]\n",
    "\n",
    "train_size = 500\n",
    "train_data = dataset[train_size:]\n",
    "valid_data = dataset[train_size // 2 : train_size]\n",
    "test_data = dataset[: train_size // 2]\n",
    "test_words = original_words[: train_size // 2]\n"
   ]
  },
  {
   "cell_type": "code",
   "execution_count": 22,
   "metadata": {
    "scrolled": true
   },
   "outputs": [
    {
     "name": "stdout",
     "output_type": "stream",
     "text": [
      "0轮，训练Loss: 8.75, 校验Loss: 8.34\n",
      "1轮，训练Loss: 8.33, 校验Loss: 8.06\n",
      "2轮，训练Loss: 8.08, 校验Loss: 7.90\n",
      "3轮，训练Loss: 7.92, 校验Loss: 7.79\n",
      "4轮，训练Loss: 7.81, 校验Loss: 7.71\n",
      "5轮，训练Loss: 7.72, 校验Loss: 7.65\n",
      "6轮，训练Loss: 7.65, 校验Loss: 7.59\n",
      "7轮，训练Loss: 7.59, 校验Loss: 7.55\n",
      "8轮，训练Loss: 7.54, 校验Loss: 7.51\n",
      "9轮，训练Loss: 7.49, 校验Loss: 7.47\n",
      "10轮，训练Loss: 7.45, 校验Loss: 7.45\n",
      "11轮，训练Loss: 7.42, 校验Loss: 7.42\n",
      "12轮，训练Loss: 7.39, 校验Loss: 7.40\n",
      "13轮，训练Loss: 7.36, 校验Loss: 7.38\n",
      "14轮，训练Loss: 7.33, 校验Loss: 7.36\n",
      "15轮，训练Loss: 7.31, 校验Loss: 7.34\n",
      "16轮，训练Loss: 7.29, 校验Loss: 7.33\n",
      "17轮，训练Loss: 7.27, 校验Loss: 7.32\n",
      "18轮，训练Loss: 7.25, 校验Loss: 7.30\n",
      "19轮，训练Loss: 7.23, 校验Loss: 7.29\n",
      "20轮，训练Loss: 7.22, 校验Loss: 7.28\n",
      "21轮，训练Loss: 7.20, 校验Loss: 7.28\n",
      "22轮，训练Loss: 7.19, 校验Loss: 7.27\n",
      "23轮，训练Loss: 7.18, 校验Loss: 7.26\n",
      "24轮，训练Loss: 7.17, 校验Loss: 7.25\n",
      "25轮，训练Loss: 7.16, 校验Loss: 7.25\n",
      "26轮，训练Loss: 7.15, 校验Loss: 7.24\n",
      "27轮，训练Loss: 7.14, 校验Loss: 7.24\n",
      "28轮，训练Loss: 7.13, 校验Loss: 7.23\n",
      "29轮，训练Loss: 7.12, 校验Loss: 7.23\n",
      "30轮，训练Loss: 7.11, 校验Loss: 7.22\n",
      "31轮，训练Loss: 7.11, 校验Loss: 7.22\n",
      "32轮，训练Loss: 7.10, 校验Loss: 7.22\n",
      "33轮，训练Loss: 7.09, 校验Loss: 7.21\n",
      "34轮，训练Loss: 7.09, 校验Loss: 7.21\n",
      "35轮，训练Loss: 7.08, 校验Loss: 7.21\n",
      "36轮，训练Loss: 7.08, 校验Loss: 7.20\n",
      "37轮，训练Loss: 7.07, 校验Loss: 7.20\n",
      "38轮，训练Loss: 7.07, 校验Loss: 7.20\n",
      "39轮，训练Loss: 7.06, 校验Loss: 7.20\n",
      "40轮，训练Loss: 7.06, 校验Loss: 7.19\n",
      "41轮，训练Loss: 7.05, 校验Loss: 7.19\n",
      "42轮，训练Loss: 7.05, 校验Loss: 7.19\n",
      "43轮，训练Loss: 7.05, 校验Loss: 7.19\n",
      "44轮，训练Loss: 7.04, 校验Loss: 7.19\n",
      "45轮，训练Loss: 7.04, 校验Loss: 7.18\n",
      "46轮，训练Loss: 7.04, 校验Loss: 7.18\n",
      "47轮，训练Loss: 7.04, 校验Loss: 7.18\n",
      "48轮，训练Loss: 7.03, 校验Loss: 7.18\n",
      "49轮，训练Loss: 7.03, 校验Loss: 7.18\n",
      "50轮，训练Loss: 7.03, 校验Loss: 7.18\n",
      "51轮，训练Loss: 7.03, 校验Loss: 7.18\n",
      "52轮，训练Loss: 7.02, 校验Loss: 7.18\n",
      "53轮，训练Loss: 7.02, 校验Loss: 7.18\n",
      "54轮，训练Loss: 7.02, 校验Loss: 7.17\n",
      "55轮，训练Loss: 7.02, 校验Loss: 7.17\n",
      "56轮，训练Loss: 7.01, 校验Loss: 7.17\n",
      "57轮，训练Loss: 7.01, 校验Loss: 7.17\n",
      "58轮，训练Loss: 7.01, 校验Loss: 7.17\n",
      "59轮，训练Loss: 7.01, 校验Loss: 7.17\n",
      "60轮，训练Loss: 7.01, 校验Loss: 7.17\n",
      "61轮，训练Loss: 7.01, 校验Loss: 7.17\n",
      "62轮，训练Loss: 7.00, 校验Loss: 7.17\n",
      "63轮，训练Loss: 7.00, 校验Loss: 7.17\n",
      "64轮，训练Loss: 7.00, 校验Loss: 7.17\n",
      "65轮，训练Loss: 7.00, 校验Loss: 7.17\n",
      "66轮，训练Loss: 7.00, 校验Loss: 7.17\n",
      "67轮，训练Loss: 7.00, 校验Loss: 7.17\n",
      "68轮，训练Loss: 7.00, 校验Loss: 7.17\n",
      "69轮，训练Loss: 7.00, 校验Loss: 7.17\n",
      "70轮，训练Loss: 6.99, 校验Loss: 7.16\n",
      "71轮，训练Loss: 6.99, 校验Loss: 7.16\n",
      "72轮，训练Loss: 6.99, 校验Loss: 7.16\n",
      "73轮，训练Loss: 6.99, 校验Loss: 7.16\n",
      "74轮，训练Loss: 6.99, 校验Loss: 7.16\n",
      "75轮，训练Loss: 6.99, 校验Loss: 7.16\n",
      "76轮，训练Loss: 6.99, 校验Loss: 7.16\n",
      "77轮，训练Loss: 6.99, 校验Loss: 7.16\n",
      "78轮，训练Loss: 6.99, 校验Loss: 7.16\n",
      "79轮，训练Loss: 6.98, 校验Loss: 7.16\n",
      "80轮，训练Loss: 6.98, 校验Loss: 7.16\n",
      "81轮，训练Loss: 6.98, 校验Loss: 7.16\n",
      "82轮，训练Loss: 6.98, 校验Loss: 7.16\n",
      "83轮，训练Loss: 6.98, 校验Loss: 7.16\n",
      "84轮，训练Loss: 6.98, 校验Loss: 7.16\n",
      "85轮，训练Loss: 6.98, 校验Loss: 7.16\n",
      "86轮，训练Loss: 6.98, 校验Loss: 7.16\n",
      "87轮，训练Loss: 6.98, 校验Loss: 7.16\n",
      "88轮，训练Loss: 6.98, 校验Loss: 7.16\n",
      "89轮，训练Loss: 6.98, 校验Loss: 7.16\n",
      "90轮，训练Loss: 6.98, 校验Loss: 7.16\n",
      "91轮，训练Loss: 6.97, 校验Loss: 7.16\n",
      "92轮，训练Loss: 6.97, 校验Loss: 7.16\n",
      "93轮，训练Loss: 6.97, 校验Loss: 7.16\n",
      "94轮，训练Loss: 6.97, 校验Loss: 7.16\n",
      "95轮，训练Loss: 6.97, 校验Loss: 7.15\n",
      "96轮，训练Loss: 6.97, 校验Loss: 7.15\n",
      "97轮，训练Loss: 6.97, 校验Loss: 7.15\n",
      "98轮，训练Loss: 6.97, 校验Loss: 7.15\n",
      "99轮，训练Loss: 6.97, 校验Loss: 7.15\n"
     ]
    }
   ],
   "source": [
    "# 开始训练一个多层神经网络，将一个100维度的英文向量映射为200维度的中文词向量，隐含层节点为30\n",
    "\n",
    "input_size = 100\n",
    "output_size = 200\n",
    "hidden_size = 30\n",
    "\n",
    "# 新建一个神经网络，包含一个隐含层\n",
    "model = nn.Sequential(nn.Linear(input_size, hidden_size),\n",
    "                      nn.Tanh(),\n",
    "                      nn.Linear(hidden_size, output_size))\n",
    "\n",
    "# 构造损失函数\n",
    "criterion = torch.nn.MSELoss()\n",
    "\n",
    "# 构造优化器\n",
    "optimizer = torch.optim.Adam(model.parameters(), lr = 0.0001)\n",
    "\n",
    "# 总的循环周期\n",
    "\n",
    "num_epoch = 100\n",
    "\n",
    "\n",
    "#开始训练500次，每次对所有的数据都做循环\n",
    "results = []\n",
    "for epoch in range(num_epoch):\n",
    "    train_loss = []\n",
    "    for data in train_data:\n",
    "       # 读入数据\n",
    "        x = Variable(torch.FloatTensor(data[0])).unsqueeze(0)\n",
    "        y = Variable(torch.FloatTensor(data[1])).unsqueeze(0)\n",
    "       # 模型预测\n",
    "        output = model(x)\n",
    "        \n",
    "        # 反向传播算法训练\n",
    "        optimizer.zero_grad()\n",
    "        loss = criterion(output, y)\n",
    "        train_loss.append(loss.data.numpy()[0])\n",
    "        loss.backward()\n",
    "        optimizer.step()\n",
    "    # 在校验集上测试一下效果\n",
    "    valid_loss = []\n",
    "    for data in valid_data:\n",
    "        x = Variable(torch.FloatTensor(data[0])).unsqueeze(0)\n",
    "        y = Variable(torch.FloatTensor(data[1])).unsqueeze(0)\n",
    "        output = model(x)\n",
    "        loss = criterion(output, y)\n",
    "        valid_loss.append(loss.data.numpy()[0])\n",
    "    results.append([np.mean(train_loss), np.mean(valid_loss)])\n",
    "    print('{}轮，训练Loss: {:.2f}, 校验Loss: {:.2f}'.format(epoch, np.mean(train_loss), np.mean(valid_loss)))\n"
   ]
  },
  {
   "cell_type": "code",
   "execution_count": 23,
   "metadata": {},
   "outputs": [
    {
     "data": {
      "text/plain": [
       "<matplotlib.legend.Legend at 0x7f0d3d8d3c88>"
      ]
     },
     "execution_count": 23,
     "metadata": {},
     "output_type": "execute_result"
    },
    {
     "data": {
      "image/png": "[encoded data removed]",
      "text/plain": [
       "<matplotlib.figure.Figure at 0x7f0d3e5057b8>"
      ]
     },
     "metadata": {},
     "output_type": "display_data"
    }
   ],
   "source": [
    "# 绘制图形\n",
    "a = [i[0] for i in results]\n",
    "b = [i[1] for i in results]\n",
    "plt.plot(a, 'o', label = 'Training Loss')\n",
    "plt.plot(b, 's', label = 'Validation Loss')\n",
    "plt.xlabel('Epoch')\n",
    "plt.ylabel('Loss Function')\n",
    "plt.legend()"
   ]
  },
  {
   "cell_type": "code",
   "execution_count": 25,
   "metadata": {},
   "outputs": [
    {
     "name": "stdout",
     "output_type": "stream",
     "text": [
      "精确匹配率：0.06\n",
      "一字匹配率：0.13\n",
      "[['申请', '需要'], ['扭', '颤动'], ['眼', '指甲'], ['工作', '工作'], ['满足', '安排'], ['太阳能', '球体'], ['剂', '人员'], ['厌恶', '害怕'], ['搅拌', '醋'], ['停止', '切断'], ['合成', '构造'], ['精确', '假设'], ['66', '20'], ['旋转', '翻滚'], ['垃圾', '塑料袋'], ['绝望', '害怕'], ['捕捞', '觅食'], ['背后', '木桩'], ['在', '穿过'], ['盘', '器'], ['下垂', '微微'], ['闪光', '瞬时'], ['排序', '流程'], ['恼火', '沮丧'], ['名字', '名字'], ['站', '局域网'], ['检索', '传送'], ['钟', '话筒'], ['饲料', '虫子'], ['鞋类', '款式'], ['努力', '有效'], ['宝', '宝藏'], ['荣耀', '灵魂'], ['挂', '放'], ['记忆', '回路'], ['知道', '我'], ['机', '控制器'], ['沉没', '掩埋'], ['毫不逊色', '理解'], ['带', '舞者'], ['信号', '告警'], ['杯', '饼'], ['形', '形状'], ['神', '我'], ['支付', '报酬'], ['珍贵', '珍贵'], ['回荡', '附和'], ['期待', '四处张望'], ['甘蔗', '肉'], ['凝视', '张望'], ['一起', '学习'], ['机构', '社会'], ['拖鞋', '衣服'], ['司机', '故障'], ['39', '10'], ['地方', '这里'], ['债务', '还债'], ['烧伤', '木屑'], ['帐篷', '小屋'], ['征用', '合法'], ['白', '白色'], ['复仇', '毁灭'], ['走', '爬'], ['成功', '努力'], ['带上', '帮助'], ['仍然', '停滞'], ['战术', '系统'], ['冲刺', '跳跃'], ['操作', '系统'], ['习惯', '也'], ['页', '索引'], ['熟悉', '有趣'], ['红', '白'], ['迫害', '反抗'], ['大麻', '乌金'], ['游泳', '观赏'], ['高跟鞋', '头'], ['岩', '山岩'], ['弱', '收缩'], ['类', '独立自主'], ['捕获', '摧毁'], ['路线', '沿'], ['坐立不安', '用力'], ['5', '10'], ['隐藏', '躲藏'], ['睡衣', '着装'], ['领带', '勾'], ['锥', '叶片'], ['下', '而且'], ['原子', '生物体'], ['课程', '学习'], ['厌恶', '恐惧'], ['精彩', '美好'], ['加油', '兴奋'], ['受', '因为'], ['访问', '服务'], ['故事', '故事'], ['谷物', '鸡肉'], ['绅士', '绅士'], ['合理', '所以'], ['漠然', '粗鲁'], ['避免', '可能'], ['在', '钻进'], ['放牧', '饲养'], ['奥马哈', '马场'], ['禁止', '允许'], ['畅谈', '诚恳'], ['他', '他'], ['洗擦', '沙子'], ['依稀', '寂静'], ['长', '双腿'], ['猜测', '怀疑'], ['尝试', '逼迫'], ['孔', '洞口'], ['尴尬', '厌恶'], ['决定', '需要'], ['摆动', '头顶'], ['不幸', '心灰意冷'], ['棚', '脱落'], ['下面', '边沿'], ['生气', '愤怒'], ['孔', '洞口'], ['使', '所以'], ['穿着', '穿着'], ['粘', '粘'], ['轨道', '公路'], ['大厦', '小屋'], ['火焰', '光亮'], ['通常', '或者'], ['侏儒', '加农'], ['替代', '特性'], ['发现', '草丛'], ['征服', '毁灭'], ['微风', '雨滴'], ['容忍', '因为'], ['赫斯顿', '维克多'], ['垃圾', '木屑'], ['保险杠', '弹'], ['适当', '需要'], ['撕裂', '腐蚀'], ['和平', '努力'], ['发现', '理解'], ['哟', '啊'], ['情况', '可能'], ['提供', '发给'], ['星际', '岩浆'], ['鼓掌', '手舞足蹈'], ['战斗', '反抗'], ['账户', '账户'], ['李嘉图', '格拉汉姆'], ['服务', '调配'], ['武装', '军警'], ['树皮', '肉'], ['建立', '评估'], ['引起', '导致'], ['1957', '19'], ['进行曲', '击'], ['裸体', '脖子'], ['眩光', '强光'], ['问题', '问题'], ['被盗', '盗取'], ['弗兰克', '罗伯特'], ['回应', '必要'], ['一般', '因此'], ['你', '我'], ['博士', '惨'], ['紧身', '长袍'], ['极致', '设备'], ['信用', '支付'], ['轴承', '部件'], ['假', '法律'], ['正', '理解'], ['整齐', '粘'], ['社会', '社会'], ['里根', '希特勒'], ['停车', '停车场'], ['没有', '因为'], ['女同性恋', '她们'], ['靠', '倒'], ['运行', '接上'], ['低垂', '胸口'], ['潜伏', '黑暗'], ['61', '20'], ['两侧', '中间'], ['地狱', '……'], ['轻微', '轻微'], ['双', '底板'], ['解雇', '扔出'], ['零', '数值'], ['警察', '他'], ['服装', '饰品'], ['实例', '或者说'], ['近', '靠近'], ['气', '剪裁'], ['传递', '拦截'], ['洗牌', '两只手'], ['漂移', '俯冲'], ['建', '建造'], ['花生', '牛奶'], ['八', '说得对'], ['局限', '正常'], ['织物', '材质'], ['可信', '的'], ['喊', '大喊'], ['干酪', '奶油'], ['槽', '模块'], ['摆动', '蹬'], ['教育', '服务'], ['画', '打'], ['捣', '压住'], ['中心', '应用'], ['马歇尔', '内森'], ['匈奴', '痛骂'], ['山', '山脚下'], ['踢', '打'], ['怀疑', '怀疑'], ['探照灯', '旋转'], ['游客', '湖边'], ['走', '倒'], ['傻笑', '大笑'], ['小事', '容易'], ['甜蜜', '口感'], ['晚上', '晚上'], ['折磨', '榨干'], ['白痴', '笨蛋'], ['招标', '胚'], ['得到', '所以'], ['天线', '感应器'], ['月亮', '彩虹'], ['节拍', '灵巧'], ['易', '踱步'], ['承认', '我'], ['临时', '关闭'], ['打趣', '我'], ['翻', '掉'], ['科学家', '科学家'], ['严重', '破坏'], ['漂浮', '画'], ['寻找', '看到'], ['创建', '构架'], ['内部', '木质'], ['通道', '文字'], ['水果', '浆果'], ['下落', '行踪'], ['屋顶', '挡板'], ['崩溃', '故障'], ['期待', '着急'], ['斑点', '白色'], ['穴居人', '那个'], ['抓住', '躲开']]\n"
     ]
    }
   ],
   "source": [
    "# 在测试集上验证准确度\n",
    "# 检验标准有两个：一个是直接用预测的词和标准答案做全词匹配；另一个是做单字的匹配\n",
    "exact_same = 0  #全词匹配数量\n",
    "one_same = 0 #单字匹配数量\n",
    "results = []\n",
    "for i, data in enumerate(test_data):\n",
    "    x = Variable(torch.FloatTensor(data[0])).unsqueeze(0)\n",
    "    # 给出模型的输出\n",
    "    output = model(x)\n",
    "    output = output.squeeze().data.numpy()\n",
    "    # 从中文词向量中找到与输出向量最相似的向量\n",
    "    most_similar = word_vectors.wv.similar_by_vector(output, 1)\n",
    "    # 将标准答案中的词与最相似的向量所对应的词打印出来\n",
    "    results.append([original_words[i][1], most_similar[0][0]])\n",
    "    \n",
    "    # 全词匹配\n",
    "    if original_words[i][1] == most_similar[0][0]:\n",
    "        exact_same += 1\n",
    "    # 某一个字匹配\n",
    "    if list(set(list(original_words[i][1])) & set(list(most_similar[0][0]))) != []:\n",
    "        one_same += 1\n",
    "    \n",
    "print(\"精确匹配率：{:.2f}\".format(1.0 * exact_same / len(test_data)))\n",
    "print('一字匹配率：{:.2f}'.format(1.0 * one_same / len(test_data)))\n",
    "print(results)"
   ]
  }
 ],
 "metadata": {
  "kernelspec": {
   "display_name": "Python 3",
   "language": "python",
   "name": "python3"
  },
  "language_info": {
   "codemirror_mode": {
    "name": "ipython",
    "version": 3
   },
   "file_extension": ".py",
   "mimetype": "text/x-python",
   "name": "python",
   "nbconvert_exporter": "python",
   "pygments_lexer": "ipython3",
   "version": "3.6.3"
  }
 },
 "nbformat": 4,
 "nbformat_minor": 2
}
